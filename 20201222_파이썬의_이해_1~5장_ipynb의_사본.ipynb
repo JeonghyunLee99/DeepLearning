{
  "nbformat": 4,
  "nbformat_minor": 0,
  "metadata": {
    "kernelspec": {
      "display_name": "Python 3",
      "language": "python",
      "name": "python3"
    },
    "language_info": {
      "codemirror_mode": {
        "name": "ipython",
        "version": 3
      },
      "file_extension": ".py",
      "mimetype": "text/x-python",
      "name": "python",
      "nbconvert_exporter": "python",
      "pygments_lexer": "ipython3",
      "version": "3.6.5"
    },
    "colab": {
      "name": "파이썬의 이해 1~5장.ipynb의 사본",
      "provenance": [],
      "include_colab_link": true
    },
    "accelerator": "GPU"
  },
  "cells": [
    {
      "cell_type": "markdown",
      "metadata": {
        "id": "view-in-github",
        "colab_type": "text"
      },
      "source": [
        "<a href=\"https://colab.research.google.com/github/JeonghyunLee99/DeepLearning/blob/master/20201222_%ED%8C%8C%EC%9D%B4%EC%8D%AC%EC%9D%98_%EC%9D%B4%ED%95%B4_1~5%EC%9E%A5_ipynb%EC%9D%98_%EC%82%AC%EB%B3%B8.ipynb\" target=\"_parent\"><img src=\"https://colab.research.google.com/assets/colab-badge.svg\" alt=\"Open In Colab\"/></a>"
      ]
    },
    {
      "cell_type": "code",
      "metadata": {
        "id": "76BZYLSIX2gq"
      },
      "source": [
        "# =============================================================================\n",
        "# ============================ 1. Python의 구문 ===============================\n",
        "# ============================================================================="
      ],
      "execution_count": 1,
      "outputs": []
    },
    {
      "cell_type": "code",
      "metadata": {
        "colab": {
          "base_uri": "https://localhost:8080/"
        },
        "id": "LYDVvx-2JZJG",
        "outputId": "ca99cad1-bfa4-4945-e000-ece7b39b3c0c"
      },
      "source": [
        "! nvidia-smi"
      ],
      "execution_count": 2,
      "outputs": [
        {
          "output_type": "stream",
          "text": [
            "Tue Dec 22 01:52:42 2020       \n",
            "+-----------------------------------------------------------------------------+\n",
            "| NVIDIA-SMI 455.45.01    Driver Version: 418.67       CUDA Version: 10.1     |\n",
            "|-------------------------------+----------------------+----------------------+\n",
            "| GPU  Name        Persistence-M| Bus-Id        Disp.A | Volatile Uncorr. ECC |\n",
            "| Fan  Temp  Perf  Pwr:Usage/Cap|         Memory-Usage | GPU-Util  Compute M. |\n",
            "|                               |                      |               MIG M. |\n",
            "|===============================+======================+======================|\n",
            "|   0  Tesla T4            Off  | 00000000:00:04.0 Off |                    0 |\n",
            "| N/A   36C    P8     9W /  70W |      0MiB / 15079MiB |      0%      Default |\n",
            "|                               |                      |                 ERR! |\n",
            "+-------------------------------+----------------------+----------------------+\n",
            "                                                                               \n",
            "+-----------------------------------------------------------------------------+\n",
            "| Processes:                                                                  |\n",
            "|  GPU   GI   CI        PID   Type   Process name                  GPU Memory |\n",
            "|        ID   ID                                                   Usage      |\n",
            "|=============================================================================|\n",
            "|  No running processes found                                                 |\n",
            "+-----------------------------------------------------------------------------+\n"
          ],
          "name": "stdout"
        }
      ]
    },
    {
      "cell_type": "code",
      "metadata": {
        "colab": {
          "base_uri": "https://localhost:8080/"
        },
        "id": "a0WNbqLQJngy",
        "outputId": "f6a4353a-c13a-4757-a71d-19fb0a4f1396"
      },
      "source": [
        "!cat /proc/cpuinfo"
      ],
      "execution_count": 3,
      "outputs": [
        {
          "output_type": "stream",
          "text": [
            "processor\t: 0\n",
            "vendor_id\t: GenuineIntel\n",
            "cpu family\t: 6\n",
            "model\t\t: 79\n",
            "model name\t: Intel(R) Xeon(R) CPU @ 2.20GHz\n",
            "stepping\t: 0\n",
            "microcode\t: 0x1\n",
            "cpu MHz\t\t: 2199.998\n",
            "cache size\t: 56320 KB\n",
            "physical id\t: 0\n",
            "siblings\t: 2\n",
            "core id\t\t: 0\n",
            "cpu cores\t: 1\n",
            "apicid\t\t: 0\n",
            "initial apicid\t: 0\n",
            "fpu\t\t: yes\n",
            "fpu_exception\t: yes\n",
            "cpuid level\t: 13\n",
            "wp\t\t: yes\n",
            "flags\t\t: fpu vme de pse tsc msr pae mce cx8 apic sep mtrr pge mca cmov pat pse36 clflush mmx fxsr sse sse2 ss ht syscall nx pdpe1gb rdtscp lm constant_tsc rep_good nopl xtopology nonstop_tsc cpuid tsc_known_freq pni pclmulqdq ssse3 fma cx16 pcid sse4_1 sse4_2 x2apic movbe popcnt aes xsave avx f16c rdrand hypervisor lahf_lm abm 3dnowprefetch invpcid_single ssbd ibrs ibpb stibp fsgsbase tsc_adjust bmi1 hle avx2 smep bmi2 erms invpcid rtm rdseed adx smap xsaveopt arat md_clear arch_capabilities\n",
            "bugs\t\t: cpu_meltdown spectre_v1 spectre_v2 spec_store_bypass l1tf mds swapgs taa\n",
            "bogomips\t: 4399.99\n",
            "clflush size\t: 64\n",
            "cache_alignment\t: 64\n",
            "address sizes\t: 46 bits physical, 48 bits virtual\n",
            "power management:\n",
            "\n",
            "processor\t: 1\n",
            "vendor_id\t: GenuineIntel\n",
            "cpu family\t: 6\n",
            "model\t\t: 79\n",
            "model name\t: Intel(R) Xeon(R) CPU @ 2.20GHz\n",
            "stepping\t: 0\n",
            "microcode\t: 0x1\n",
            "cpu MHz\t\t: 2199.998\n",
            "cache size\t: 56320 KB\n",
            "physical id\t: 0\n",
            "siblings\t: 2\n",
            "core id\t\t: 0\n",
            "cpu cores\t: 1\n",
            "apicid\t\t: 1\n",
            "initial apicid\t: 1\n",
            "fpu\t\t: yes\n",
            "fpu_exception\t: yes\n",
            "cpuid level\t: 13\n",
            "wp\t\t: yes\n",
            "flags\t\t: fpu vme de pse tsc msr pae mce cx8 apic sep mtrr pge mca cmov pat pse36 clflush mmx fxsr sse sse2 ss ht syscall nx pdpe1gb rdtscp lm constant_tsc rep_good nopl xtopology nonstop_tsc cpuid tsc_known_freq pni pclmulqdq ssse3 fma cx16 pcid sse4_1 sse4_2 x2apic movbe popcnt aes xsave avx f16c rdrand hypervisor lahf_lm abm 3dnowprefetch invpcid_single ssbd ibrs ibpb stibp fsgsbase tsc_adjust bmi1 hle avx2 smep bmi2 erms invpcid rtm rdseed adx smap xsaveopt arat md_clear arch_capabilities\n",
            "bugs\t\t: cpu_meltdown spectre_v1 spectre_v2 spec_store_bypass l1tf mds swapgs taa\n",
            "bogomips\t: 4399.99\n",
            "clflush size\t: 64\n",
            "cache_alignment\t: 64\n",
            "address sizes\t: 46 bits physical, 48 bits virtual\n",
            "power management:\n",
            "\n"
          ],
          "name": "stdout"
        }
      ]
    },
    {
      "cell_type": "code",
      "metadata": {
        "colab": {
          "base_uri": "https://localhost:8080/"
        },
        "id": "_Z9Om3umJvXh",
        "outputId": "9019eb1f-8e20-4295-cd61-d0cd4b3020e1"
      },
      "source": [
        "!free -h"
      ],
      "execution_count": 4,
      "outputs": [
        {
          "output_type": "stream",
          "text": [
            "              total        used        free      shared  buff/cache   available\n",
            "Mem:            12G        546M         10G        960K        1.9G         11G\n",
            "Swap:            0B          0B          0B\n"
          ],
          "name": "stdout"
        }
      ]
    },
    {
      "cell_type": "markdown",
      "metadata": {
        "id": "HcUTTDu9J7qj"
      },
      "source": [
        ""
      ]
    },
    {
      "cell_type": "code",
      "metadata": {
        "colab": {
          "base_uri": "https://localhost:8080/",
          "height": 35
        },
        "id": "xFwX0aNvJ8Ci",
        "outputId": "dd5c9bf9-8da3-411e-a4d9-b56e70ee1094"
      },
      "source": [
        "import platform\r\n",
        "platform.platform()"
      ],
      "execution_count": 5,
      "outputs": [
        {
          "output_type": "execute_result",
          "data": {
            "application/vnd.google.colaboratory.intrinsic+json": {
              "type": "string"
            },
            "text/plain": [
              "'Linux-4.19.112+-x86_64-with-Ubuntu-18.04-bionic'"
            ]
          },
          "metadata": {
            "tags": []
          },
          "execution_count": 5
        }
      ]
    },
    {
      "cell_type": "markdown",
      "metadata": {
        "id": "PjxmHuXpKujg"
      },
      "source": [
        "# 제목 1단계\r\n",
        "## 제목 2단계\r\n",
        "### 제목 3단계"
      ]
    },
    {
      "cell_type": "markdown",
      "metadata": {
        "id": "ZH0AQ7NcK9I9"
      },
      "source": [
        "1. 첫 번째\r\n",
        "1. 두 번째\r\n",
        "1. 세 번째\r\n",
        "\r\n",
        "+ 순서없음\r\n",
        "  - 홍길동\r\n",
        "    * 중대장\r\n",
        "      + 프로실망러\r\n",
        "      "
      ]
    },
    {
      "cell_type": "markdown",
      "metadata": {
        "id": "27wDAqdALLYx"
      },
      "source": [
        "안뇽\r\n",
        "---\r\n",
        "기묭"
      ]
    },
    {
      "cell_type": "markdown",
      "metadata": {
        "id": "eWFXaRH4LVXF"
      },
      "source": [
        "__볼드(진하게)__"
      ]
    },
    {
      "cell_type": "code",
      "metadata": {
        "id": "6wwVpbxqX2gv",
        "colab": {
          "base_uri": "https://localhost:8080/"
        },
        "outputId": "e787c17b-dd8d-4e7f-c9df-d41140ea642a"
      },
      "source": [
        "# 문자 출력\n",
        "print('Welcome to Python.')\n",
        "print('It is fun learning Python.')\n",
        "print('Welcome to Python'); print('It is fun learning Python.')"
      ],
      "execution_count": 2,
      "outputs": [
        {
          "output_type": "stream",
          "text": [
            "Welcome to Python.\n",
            "It is fun learning Python.\n",
            "Welcome to Python\n",
            "It is fun learning Python.\n"
          ],
          "name": "stdout"
        }
      ]
    },
    {
      "cell_type": "code",
      "metadata": {
        "id": "Qtd0UWXvX2gw",
        "colab": {
          "base_uri": "https://localhost:8080/"
        },
        "outputId": "cb414823-056a-4ceb-d733-5857b13315db"
      },
      "source": [
        "# 줄 바꾸기\n",
        "sum = 10 + 20 + \\\n",
        "      30 + 40 + \\\n",
        "      30\n",
        "sum\n"
      ],
      "execution_count": 3,
      "outputs": [
        {
          "output_type": "execute_result",
          "data": {
            "text/plain": [
              "130"
            ]
          },
          "metadata": {
            "tags": []
          },
          "execution_count": 3
        }
      ]
    },
    {
      "cell_type": "code",
      "metadata": {
        "id": "0h4XjGGNX2gx",
        "outputId": "59f23d9d-e66e-43a3-eba9-b9085b1daa05"
      },
      "source": [
        "# 블록(Block), 들여쓰기(Indentation)\n",
        "if 10>3:\n",
        "    print('This is inside block')\n",
        "print('This is outside of block')"
      ],
      "execution_count": null,
      "outputs": [
        {
          "output_type": "stream",
          "text": [
            "This is inside block\n",
            "This is outside of block\n"
          ],
          "name": "stdout"
        }
      ]
    },
    {
      "cell_type": "code",
      "metadata": {
        "colab": {
          "base_uri": "https://localhost:8080/",
          "height": 556
        },
        "id": "v5lrvONwI0Iw",
        "outputId": "44214fa7-bf4b-4b99-e1e2-4bb1ab70129b"
      },
      "source": [
        "from google.colab import drive\n",
        "drive.mount('/content/drive')"
      ],
      "execution_count": 4,
      "outputs": [
        {
          "output_type": "error",
          "ename": "KeyboardInterrupt",
          "evalue": "ignored",
          "traceback": [
            "\u001b[0;31m---------------------------------------------------------------------------\u001b[0m",
            "\u001b[0;31mKeyboardInterrupt\u001b[0m                         Traceback (most recent call last)",
            "\u001b[0;32m/usr/local/lib/python3.6/dist-packages/ipykernel/kernelbase.py\u001b[0m in \u001b[0;36m_input_request\u001b[0;34m(self, prompt, ident, parent, password)\u001b[0m\n\u001b[1;32m    728\u001b[0m             \u001b[0;32mtry\u001b[0m\u001b[0;34m:\u001b[0m\u001b[0;34m\u001b[0m\u001b[0;34m\u001b[0m\u001b[0m\n\u001b[0;32m--> 729\u001b[0;31m                 \u001b[0mident\u001b[0m\u001b[0;34m,\u001b[0m \u001b[0mreply\u001b[0m \u001b[0;34m=\u001b[0m \u001b[0mself\u001b[0m\u001b[0;34m.\u001b[0m\u001b[0msession\u001b[0m\u001b[0;34m.\u001b[0m\u001b[0mrecv\u001b[0m\u001b[0;34m(\u001b[0m\u001b[0mself\u001b[0m\u001b[0;34m.\u001b[0m\u001b[0mstdin_socket\u001b[0m\u001b[0;34m,\u001b[0m \u001b[0;36m0\u001b[0m\u001b[0;34m)\u001b[0m\u001b[0;34m\u001b[0m\u001b[0;34m\u001b[0m\u001b[0m\n\u001b[0m\u001b[1;32m    730\u001b[0m             \u001b[0;32mexcept\u001b[0m \u001b[0mException\u001b[0m\u001b[0;34m:\u001b[0m\u001b[0;34m\u001b[0m\u001b[0;34m\u001b[0m\u001b[0m\n",
            "\u001b[0;32m/usr/local/lib/python3.6/dist-packages/jupyter_client/session.py\u001b[0m in \u001b[0;36mrecv\u001b[0;34m(self, socket, mode, content, copy)\u001b[0m\n\u001b[1;32m    802\u001b[0m         \u001b[0;32mtry\u001b[0m\u001b[0;34m:\u001b[0m\u001b[0;34m\u001b[0m\u001b[0;34m\u001b[0m\u001b[0m\n\u001b[0;32m--> 803\u001b[0;31m             \u001b[0mmsg_list\u001b[0m \u001b[0;34m=\u001b[0m \u001b[0msocket\u001b[0m\u001b[0;34m.\u001b[0m\u001b[0mrecv_multipart\u001b[0m\u001b[0;34m(\u001b[0m\u001b[0mmode\u001b[0m\u001b[0;34m,\u001b[0m \u001b[0mcopy\u001b[0m\u001b[0;34m=\u001b[0m\u001b[0mcopy\u001b[0m\u001b[0;34m)\u001b[0m\u001b[0;34m\u001b[0m\u001b[0;34m\u001b[0m\u001b[0m\n\u001b[0m\u001b[1;32m    804\u001b[0m         \u001b[0;32mexcept\u001b[0m \u001b[0mzmq\u001b[0m\u001b[0;34m.\u001b[0m\u001b[0mZMQError\u001b[0m \u001b[0;32mas\u001b[0m \u001b[0me\u001b[0m\u001b[0;34m:\u001b[0m\u001b[0;34m\u001b[0m\u001b[0;34m\u001b[0m\u001b[0m\n",
            "\u001b[0;32m/usr/local/lib/python3.6/dist-packages/zmq/sugar/socket.py\u001b[0m in \u001b[0;36mrecv_multipart\u001b[0;34m(self, flags, copy, track)\u001b[0m\n\u001b[1;32m    565\u001b[0m         \"\"\"\n\u001b[0;32m--> 566\u001b[0;31m         \u001b[0mparts\u001b[0m \u001b[0;34m=\u001b[0m \u001b[0;34m[\u001b[0m\u001b[0mself\u001b[0m\u001b[0;34m.\u001b[0m\u001b[0mrecv\u001b[0m\u001b[0;34m(\u001b[0m\u001b[0mflags\u001b[0m\u001b[0;34m,\u001b[0m \u001b[0mcopy\u001b[0m\u001b[0;34m=\u001b[0m\u001b[0mcopy\u001b[0m\u001b[0;34m,\u001b[0m \u001b[0mtrack\u001b[0m\u001b[0;34m=\u001b[0m\u001b[0mtrack\u001b[0m\u001b[0;34m)\u001b[0m\u001b[0;34m]\u001b[0m\u001b[0;34m\u001b[0m\u001b[0;34m\u001b[0m\u001b[0m\n\u001b[0m\u001b[1;32m    567\u001b[0m         \u001b[0;31m# have first part already, only loop while more to receive\u001b[0m\u001b[0;34m\u001b[0m\u001b[0;34m\u001b[0m\u001b[0;34m\u001b[0m\u001b[0m\n",
            "\u001b[0;32mzmq/backend/cython/socket.pyx\u001b[0m in \u001b[0;36mzmq.backend.cython.socket.Socket.recv\u001b[0;34m()\u001b[0m\n",
            "\u001b[0;32mzmq/backend/cython/socket.pyx\u001b[0m in \u001b[0;36mzmq.backend.cython.socket.Socket.recv\u001b[0;34m()\u001b[0m\n",
            "\u001b[0;32mzmq/backend/cython/socket.pyx\u001b[0m in \u001b[0;36mzmq.backend.cython.socket._recv_copy\u001b[0;34m()\u001b[0m\n",
            "\u001b[0;32m/usr/local/lib/python3.6/dist-packages/zmq/backend/cython/checkrc.pxd\u001b[0m in \u001b[0;36mzmq.backend.cython.checkrc._check_rc\u001b[0;34m()\u001b[0m\n",
            "\u001b[0;31mKeyboardInterrupt\u001b[0m: ",
            "\nDuring handling of the above exception, another exception occurred:\n",
            "\u001b[0;31mKeyboardInterrupt\u001b[0m                         Traceback (most recent call last)",
            "\u001b[0;32m<ipython-input-4-d5df0069828e>\u001b[0m in \u001b[0;36m<module>\u001b[0;34m()\u001b[0m\n\u001b[1;32m      1\u001b[0m \u001b[0;32mfrom\u001b[0m \u001b[0mgoogle\u001b[0m\u001b[0;34m.\u001b[0m\u001b[0mcolab\u001b[0m \u001b[0;32mimport\u001b[0m \u001b[0mdrive\u001b[0m\u001b[0;34m\u001b[0m\u001b[0;34m\u001b[0m\u001b[0m\n\u001b[0;32m----> 2\u001b[0;31m \u001b[0mdrive\u001b[0m\u001b[0;34m.\u001b[0m\u001b[0mmount\u001b[0m\u001b[0;34m(\u001b[0m\u001b[0;34m'/content/drive'\u001b[0m\u001b[0;34m)\u001b[0m\u001b[0;34m\u001b[0m\u001b[0;34m\u001b[0m\u001b[0m\n\u001b[0m",
            "\u001b[0;32m/usr/local/lib/python3.6/dist-packages/google/colab/drive.py\u001b[0m in \u001b[0;36mmount\u001b[0;34m(mountpoint, force_remount, timeout_ms, use_metadata_server)\u001b[0m\n\u001b[1;32m    256\u001b[0m       \u001b[0;32mwith\u001b[0m \u001b[0m_output\u001b[0m\u001b[0;34m.\u001b[0m\u001b[0muse_tags\u001b[0m\u001b[0;34m(\u001b[0m\u001b[0;34m'dfs-auth-dance'\u001b[0m\u001b[0;34m)\u001b[0m\u001b[0;34m:\u001b[0m\u001b[0;34m\u001b[0m\u001b[0;34m\u001b[0m\u001b[0m\n\u001b[1;32m    257\u001b[0m         \u001b[0;32mwith\u001b[0m \u001b[0mopen\u001b[0m\u001b[0;34m(\u001b[0m\u001b[0mfifo\u001b[0m\u001b[0;34m,\u001b[0m \u001b[0;34m'w'\u001b[0m\u001b[0;34m)\u001b[0m \u001b[0;32mas\u001b[0m \u001b[0mfifo_file\u001b[0m\u001b[0;34m:\u001b[0m\u001b[0;34m\u001b[0m\u001b[0;34m\u001b[0m\u001b[0m\n\u001b[0;32m--> 258\u001b[0;31m           \u001b[0mfifo_file\u001b[0m\u001b[0;34m.\u001b[0m\u001b[0mwrite\u001b[0m\u001b[0;34m(\u001b[0m\u001b[0mget_code\u001b[0m\u001b[0;34m(\u001b[0m\u001b[0mauth_prompt\u001b[0m\u001b[0;34m)\u001b[0m \u001b[0;34m+\u001b[0m \u001b[0;34m'\\n'\u001b[0m\u001b[0;34m)\u001b[0m\u001b[0;34m\u001b[0m\u001b[0;34m\u001b[0m\u001b[0m\n\u001b[0m\u001b[1;32m    259\u001b[0m       \u001b[0mwrote_to_fifo\u001b[0m \u001b[0;34m=\u001b[0m \u001b[0;32mTrue\u001b[0m\u001b[0;34m\u001b[0m\u001b[0;34m\u001b[0m\u001b[0m\n\u001b[1;32m    260\u001b[0m     \u001b[0;32melif\u001b[0m \u001b[0mcase\u001b[0m \u001b[0;34m==\u001b[0m \u001b[0;36m5\u001b[0m\u001b[0;34m:\u001b[0m\u001b[0;34m\u001b[0m\u001b[0;34m\u001b[0m\u001b[0m\n",
            "\u001b[0;32m/usr/local/lib/python3.6/dist-packages/ipykernel/kernelbase.py\u001b[0m in \u001b[0;36mraw_input\u001b[0;34m(self, prompt)\u001b[0m\n\u001b[1;32m    702\u001b[0m             \u001b[0mself\u001b[0m\u001b[0;34m.\u001b[0m\u001b[0m_parent_ident\u001b[0m\u001b[0;34m,\u001b[0m\u001b[0;34m\u001b[0m\u001b[0;34m\u001b[0m\u001b[0m\n\u001b[1;32m    703\u001b[0m             \u001b[0mself\u001b[0m\u001b[0;34m.\u001b[0m\u001b[0m_parent_header\u001b[0m\u001b[0;34m,\u001b[0m\u001b[0;34m\u001b[0m\u001b[0;34m\u001b[0m\u001b[0m\n\u001b[0;32m--> 704\u001b[0;31m             \u001b[0mpassword\u001b[0m\u001b[0;34m=\u001b[0m\u001b[0;32mFalse\u001b[0m\u001b[0;34m,\u001b[0m\u001b[0;34m\u001b[0m\u001b[0;34m\u001b[0m\u001b[0m\n\u001b[0m\u001b[1;32m    705\u001b[0m         )\n\u001b[1;32m    706\u001b[0m \u001b[0;34m\u001b[0m\u001b[0m\n",
            "\u001b[0;32m/usr/local/lib/python3.6/dist-packages/ipykernel/kernelbase.py\u001b[0m in \u001b[0;36m_input_request\u001b[0;34m(self, prompt, ident, parent, password)\u001b[0m\n\u001b[1;32m    732\u001b[0m             \u001b[0;32mexcept\u001b[0m \u001b[0mKeyboardInterrupt\u001b[0m\u001b[0;34m:\u001b[0m\u001b[0;34m\u001b[0m\u001b[0;34m\u001b[0m\u001b[0m\n\u001b[1;32m    733\u001b[0m                 \u001b[0;31m# re-raise KeyboardInterrupt, to truncate traceback\u001b[0m\u001b[0;34m\u001b[0m\u001b[0;34m\u001b[0m\u001b[0;34m\u001b[0m\u001b[0m\n\u001b[0;32m--> 734\u001b[0;31m                 \u001b[0;32mraise\u001b[0m \u001b[0mKeyboardInterrupt\u001b[0m\u001b[0;34m\u001b[0m\u001b[0;34m\u001b[0m\u001b[0m\n\u001b[0m\u001b[1;32m    735\u001b[0m             \u001b[0;32melse\u001b[0m\u001b[0;34m:\u001b[0m\u001b[0;34m\u001b[0m\u001b[0;34m\u001b[0m\u001b[0m\n\u001b[1;32m    736\u001b[0m                 \u001b[0;32mbreak\u001b[0m\u001b[0;34m\u001b[0m\u001b[0;34m\u001b[0m\u001b[0m\n",
            "\u001b[0;31mKeyboardInterrupt\u001b[0m: "
          ]
        }
      ]
    },
    {
      "cell_type": "code",
      "metadata": {
        "id": "IVbawJH9JWiA"
      },
      "source": [
        ""
      ],
      "execution_count": null,
      "outputs": []
    },
    {
      "cell_type": "code",
      "metadata": {
        "id": "RIpxtE_6JYH4"
      },
      "source": [
        ""
      ],
      "execution_count": null,
      "outputs": []
    },
    {
      "cell_type": "code",
      "metadata": {
        "id": "qnzUVNlxX2gx"
      },
      "source": [
        "# =============================================================================\n",
        "# ============================ 2. 변수와 자료 형태 =============================\n",
        "# ============================================================================="
      ],
      "execution_count": null,
      "outputs": []
    },
    {
      "cell_type": "code",
      "metadata": {
        "id": "KoqNPSydX2gx",
        "outputId": "736470b4-139c-4375-fc2a-20676af71166"
      },
      "source": [
        "# 변수의 입력\n",
        "name = 'Mike'  # string\n",
        "age = 15       # integer\n",
        "score = 102.5  # float\n",
        "passed = True  # boolean\n",
        "\n",
        "type(age)"
      ],
      "execution_count": null,
      "outputs": [
        {
          "output_type": "execute_result",
          "data": {
            "text/plain": [
              "int"
            ]
          },
          "metadata": {
            "tags": []
          },
          "execution_count": 7
        }
      ]
    },
    {
      "cell_type": "code",
      "metadata": {
        "id": "FVtqOg51X2gy",
        "outputId": "be774036-ac25-40ba-8ec4-da7805d77114"
      },
      "source": [
        "## List ##\n",
        "cars = ['Honda', 'Toyota', 2002, 2015]  # cars는 리스트 객체를 참조(주소를 저장). 이름을 하나 더 짓는 개념\n",
        "print(len(cars))  # list의 길이"
      ],
      "execution_count": null,
      "outputs": [
        {
          "output_type": "stream",
          "text": [
            "4\n"
          ],
          "name": "stdout"
        }
      ]
    },
    {
      "cell_type": "code",
      "metadata": {
        "id": "zELoo532X2gy",
        "outputId": "3a043a8c-a94c-4ebb-81d3-8fabdb2b19c4"
      },
      "source": [
        "colors = ['red', 'green', 'white', 'yellow']\n",
        "nums = list(range(10))  # list 자료로 만들기\n",
        "print(nums)\n",
        "nums_1 = list(range(50,101))\n",
        "print(nums_1)"
      ],
      "execution_count": null,
      "outputs": [
        {
          "output_type": "stream",
          "text": [
            "[0, 1, 2, 3, 4, 5, 6, 7, 8, 9]\n",
            "[50, 51, 52, 53, 54, 55, 56, 57, 58, 59, 60, 61, 62, 63, 64, 65, 66, 67, 68, 69, 70, 71, 72, 73, 74, 75, 76, 77, 78, 79, 80, 81, 82, 83, 84, 85, 86, 87, 88, 89, 90, 91, 92, 93, 94, 95, 96, 97, 98, 99, 100]\n"
          ],
          "name": "stdout"
        }
      ]
    },
    {
      "cell_type": "code",
      "metadata": {
        "id": "_MtqdworX2gy",
        "outputId": "3b6d1984-72fe-42bf-bfda-2bab962e41f2"
      },
      "source": [
        "# 편집(일부 원소 접근)\n",
        "colors_1 = colors[:2]    # colors[0] - colors[2-1]\n",
        "print(colors_1)\n",
        "colors_2 = colors[-2:]   # colors[(4-2)+1] - colors[4]\n",
        "print(colors_2)\n",
        "colors_3 = colors[1:-2]  # colors[1] - colors[(4-2)-1]\n",
        "print(colors_3)\n",
        "colors_4 = colors[1:3]   # colors[1] - colors[3-1]\n",
        "print(colors_4)\n",
        "colors_5 = colors[2]   # colors[2]\n",
        "print(colors_5)"
      ],
      "execution_count": null,
      "outputs": [
        {
          "output_type": "stream",
          "text": [
            "['red', 'green']\n",
            "['white', 'yellow']\n",
            "['green']\n",
            "['green', 'white']\n",
            "white\n"
          ],
          "name": "stdout"
        }
      ]
    },
    {
      "cell_type": "code",
      "metadata": {
        "id": "RpRP7Q1DX2gz",
        "outputId": "b8fdfd17-43c9-4e18-c726-9adaabb24514"
      },
      "source": [
        "# 행렬: list 안의 list로 표현\n",
        "data = [[1, 15, 20, 36], [41, 20, 54, 47], [75, 46,68, 2]]; print(data)\n",
        "data_1 = data[1]; print(data_1)\n",
        "data_2 = data[1][2]; print(data_2)"
      ],
      "execution_count": null,
      "outputs": [
        {
          "output_type": "stream",
          "text": [
            "[[1, 15, 20, 36], [41, 20, 54, 47], [75, 46, 68, 2]]\n",
            "[41, 20, 54, 47]\n",
            "54\n"
          ],
          "name": "stdout"
        }
      ]
    },
    {
      "cell_type": "code",
      "metadata": {
        "id": "JZZwZ7GKX2gz",
        "outputId": "e13ad27a-619c-461d-a95f-29d0ba09eb7a"
      },
      "source": [
        "colors = ['blue', 'white', 'yellow', 'red', 'black']\n",
        "colors.append('orange')  # 추가하기\n",
        "print(colors)\n",
        "colors.remove('white')   # 제거\n",
        "print(colors)\n",
        "colors.sort()            # 정렬\n",
        "print(colors)"
      ],
      "execution_count": null,
      "outputs": [
        {
          "output_type": "stream",
          "text": [
            "['blue', 'white', 'yellow', 'red', 'black', 'orange']\n",
            "['blue', 'yellow', 'red', 'black', 'orange']\n",
            "['black', 'blue', 'orange', 'red', 'yellow']\n"
          ],
          "name": "stdout"
        }
      ]
    },
    {
      "cell_type": "code",
      "metadata": {
        "id": "IanoCyPFX2gz",
        "outputId": "519c417d-cb0e-4a11-f729-6994b5ade6a7"
      },
      "source": [
        "## Tuiple ##\n",
        "abc_1 = ['a', 'b', 'c', 'd']  # list\n",
        "abc_1[2] = 'p' \n",
        "print(abc_1); "
      ],
      "execution_count": null,
      "outputs": [
        {
          "output_type": "stream",
          "text": [
            "['a', 'b', 'p', 'd']\n"
          ],
          "name": "stdout"
        }
      ]
    },
    {
      "cell_type": "code",
      "metadata": {
        "id": "MCCvH0PhX2g0",
        "outputId": "924f1a23-c77d-4af0-f825-49324e50edc4"
      },
      "source": [
        "abc_2 = ('a', 'b', 'c', 'd')  # tuple\n",
        "abc_2[2] = 'p'                # Error 발생"
      ],
      "execution_count": null,
      "outputs": [
        {
          "output_type": "error",
          "ename": "TypeError",
          "evalue": "'tuple' object does not support item assignment",
          "traceback": [
            "\u001b[1;31m---------------------------------------------------------------------------\u001b[0m",
            "\u001b[1;31mTypeError\u001b[0m                                 Traceback (most recent call last)",
            "\u001b[1;32m<ipython-input-14-136a791855f6>\u001b[0m in \u001b[0;36m<module>\u001b[1;34m()\u001b[0m\n\u001b[0;32m      1\u001b[0m \u001b[0mabc_2\u001b[0m \u001b[1;33m=\u001b[0m \u001b[1;33m(\u001b[0m\u001b[1;34m'a'\u001b[0m\u001b[1;33m,\u001b[0m \u001b[1;34m'b'\u001b[0m\u001b[1;33m,\u001b[0m \u001b[1;34m'c'\u001b[0m\u001b[1;33m,\u001b[0m \u001b[1;34m'd'\u001b[0m\u001b[1;33m)\u001b[0m  \u001b[1;31m# tuple\u001b[0m\u001b[1;33m\u001b[0m\u001b[0m\n\u001b[1;32m----> 2\u001b[1;33m \u001b[0mabc_2\u001b[0m\u001b[1;33m[\u001b[0m\u001b[1;36m2\u001b[0m\u001b[1;33m]\u001b[0m \u001b[1;33m=\u001b[0m \u001b[1;34m'p'\u001b[0m                \u001b[1;31m# Error 발생\u001b[0m\u001b[1;33m\u001b[0m\u001b[0m\n\u001b[0m",
            "\u001b[1;31mTypeError\u001b[0m: 'tuple' object does not support item assignment"
          ]
        }
      ]
    },
    {
      "cell_type": "code",
      "metadata": {
        "id": "J8qBtjTaX2g0",
        "outputId": "2ec81ef3-9e97-4a79-9b45-7ec5743944a1"
      },
      "source": [
        "print(abc_2)"
      ],
      "execution_count": null,
      "outputs": [
        {
          "output_type": "stream",
          "text": [
            "('a', 'b', 'c', 'd')\n"
          ],
          "name": "stdout"
        }
      ]
    },
    {
      "cell_type": "code",
      "metadata": {
        "id": "9AMeZoMtX2g0",
        "outputId": "1f748850-d3f8-4546-cc0e-eee91b93b404"
      },
      "source": [
        "# 짝짓기\n",
        "name = 'A', 'B', 'C'\n",
        "type(name)\n",
        "K_1, K_2, K_3 = name\n",
        "print(K_1); print(K_2); print(K_3)"
      ],
      "execution_count": null,
      "outputs": [
        {
          "output_type": "stream",
          "text": [
            "A\n",
            "B\n",
            "C\n"
          ],
          "name": "stdout"
        }
      ]
    },
    {
      "cell_type": "code",
      "metadata": {
        "id": "mo4rxWpxX2g0",
        "outputId": "4eed2e84-828e-441f-c0d5-8374c1ee879b"
      },
      "source": [
        "# 스왑\n",
        "a, b = 11, 22; print(a, b)\n",
        "a, b = b, a\n",
        "print(a, b)"
      ],
      "execution_count": null,
      "outputs": [
        {
          "output_type": "stream",
          "text": [
            "11 22\n",
            "22 11\n"
          ],
          "name": "stdout"
        }
      ]
    },
    {
      "cell_type": "code",
      "metadata": {
        "id": "lQkzqbw-X2g1",
        "outputId": "82bf2b3b-adf8-48c9-89f8-a25a02f84d95"
      },
      "source": [
        "## Dictionary ##\n",
        "cars = {'name':'kia', 'model':2019, 'color':'white'}\n",
        "print(cars['name'])\n",
        "print(cars.keys())\n",
        "print(cars.values())\n",
        "print(cars.items())"
      ],
      "execution_count": null,
      "outputs": [
        {
          "output_type": "stream",
          "text": [
            "kia\n",
            "dict_keys(['name', 'model', 'color'])\n",
            "dict_values(['kia', 2019, 'white'])\n",
            "dict_items([('name', 'kia'), ('model', 2019), ('color', 'white')])\n"
          ],
          "name": "stdout"
        }
      ]
    },
    {
      "cell_type": "code",
      "metadata": {
        "id": "8xyrvYOvX2g1",
        "outputId": "38158b66-b03a-45a1-ed85-89763e63c061"
      },
      "source": [
        "cars['capacity'] = 1500  # 추가\n",
        "print(cars)\n",
        "cars['model'] = 2020     # 업데이트\n",
        "print(cars)\n",
        "del cars['model']        # 제거\n",
        "print(cars)"
      ],
      "execution_count": null,
      "outputs": [
        {
          "output_type": "stream",
          "text": [
            "{'name': 'kia', 'model': 2019, 'color': 'white', 'capacity': 1500}\n",
            "{'name': 'kia', 'model': 2020, 'color': 'white', 'capacity': 1500}\n",
            "{'name': 'kia', 'color': 'white', 'capacity': 1500}\n"
          ],
          "name": "stdout"
        }
      ]
    },
    {
      "cell_type": "code",
      "metadata": {
        "id": "d9QhMPIPX2g1"
      },
      "source": [
        "# =============================================================================\n",
        "# ============================== 3. Python의 연산 =============================\n",
        "# ============================================================================="
      ],
      "execution_count": null,
      "outputs": []
    },
    {
      "cell_type": "code",
      "metadata": {
        "id": "QTiMKYDzX2g1",
        "outputId": "a09966d6-e254-4583-b781-761747477b45"
      },
      "source": [
        "# 산술 연산\n",
        "N1 = 10\n",
        "N2 = 5\n",
        "print(N1+N2)\n",
        "print(N1-N2)\n",
        "print(N1*N2)\n",
        "print(N1/N2)\n",
        "print(N1//N2)\n",
        "print(N1%N2)\n",
        "print(N1**N2)"
      ],
      "execution_count": null,
      "outputs": [
        {
          "output_type": "stream",
          "text": [
            "15\n",
            "5\n",
            "50\n",
            "2.0\n",
            "2\n",
            "0\n",
            "100000\n"
          ],
          "name": "stdout"
        }
      ]
    },
    {
      "cell_type": "code",
      "metadata": {
        "id": "G4JzUcrXX2g1",
        "outputId": "0a39508a-22f2-4e4e-da46-4a5d36389207"
      },
      "source": [
        "# 논리 연산\n",
        "N1 = True\n",
        "N2 = False\n",
        "print(N1 and N2)\n",
        "print(N1 or N2)\n",
        "print(not(N1 and N2))"
      ],
      "execution_count": null,
      "outputs": [
        {
          "output_type": "stream",
          "text": [
            "False\n",
            "True\n",
            "True\n"
          ],
          "name": "stdout"
        }
      ]
    },
    {
      "cell_type": "code",
      "metadata": {
        "id": "hBMp4DWFX2g2",
        "outputId": "a0017584-3738-4c86-869c-f824abfe654f"
      },
      "source": [
        "# 비교 연산\n",
        "N1 = 10\n",
        "N2 = 5\n",
        "print(N1==N2)\n",
        "print(N1!=N2)\n",
        "print(N1>N2)\n",
        "print(N1>=N2)\n",
        "print(N1<N2)\n",
        "print(N1<=N2)"
      ],
      "execution_count": null,
      "outputs": [
        {
          "output_type": "stream",
          "text": [
            "False\n",
            "True\n",
            "True\n",
            "True\n",
            "False\n",
            "False\n"
          ],
          "name": "stdout"
        }
      ]
    },
    {
      "cell_type": "code",
      "metadata": {
        "id": "lp0WfsyQX2g2",
        "outputId": "e9ee2f20-3853-41ca-b714-e28dcdcbad6f"
      },
      "source": [
        "# 할당 연산\n",
        "N1 = 10; N2 = 5\n",
        "R = N1 + N2; print(R)\n",
        "N1 = 10; N2 = 5\n",
        "N1 += N2; print(N1)\n",
        "N1 = 10; N2 = 5\n",
        "N1 -= N2; print(N1)\n",
        "N1 = 10; N2 = 5\n",
        "N1 /= N2; print(N1)\n",
        "N1 = 10; N2 = 5\n",
        "N1 %= N2; print(N1)\n",
        "N1 = 10; N2 = 5\n",
        "N1 *= N2; print(N1)\n",
        "N1 = 10; N2 = 5\n",
        "N1 **= N2; print(N1)"
      ],
      "execution_count": null,
      "outputs": [
        {
          "output_type": "stream",
          "text": [
            "15\n",
            "15\n",
            "5\n",
            "2.0\n",
            "0\n",
            "50\n",
            "100000\n"
          ],
          "name": "stdout"
        }
      ]
    },
    {
      "cell_type": "code",
      "metadata": {
        "id": "LSesXeyzX2g2",
        "outputId": "a242396a-3d90-40b3-f296-fd711b9a20f7"
      },
      "source": [
        "# 존재 연산(membership)\n",
        "cars = ['Hyundai', 'kia', 'Audi', 'Benz', 'Honda']\n",
        "print('Hyundai' in cars)\n",
        "print('BMW' in cars)\n",
        "print('BMW' not in cars)"
      ],
      "execution_count": null,
      "outputs": [
        {
          "output_type": "stream",
          "text": [
            "True\n",
            "False\n",
            "True\n"
          ],
          "name": "stdout"
        }
      ]
    },
    {
      "cell_type": "code",
      "metadata": {
        "id": "fIu_5MBqX2g2"
      },
      "source": [
        "# =============================================================================\n",
        "# ============================ 4. 조건문과 반복문 ==============================\n",
        "# ============================================================================="
      ],
      "execution_count": null,
      "outputs": []
    },
    {
      "cell_type": "code",
      "metadata": {
        "id": "p8lpLggJX2g3",
        "outputId": "e0289054-5710-4292-ca9e-ba43ba05687c"
      },
      "source": [
        "## 조건문 ##\n",
        "N1 = 10\n",
        "N2 = 5\n",
        "if N1>N2:\n",
        "    print('N1 is greater than N2')"
      ],
      "execution_count": null,
      "outputs": [
        {
          "output_type": "stream",
          "text": [
            "N1 is greater than N2\n"
          ],
          "name": "stdout"
        }
      ]
    },
    {
      "cell_type": "code",
      "metadata": {
        "id": "M5KqGzRYX2g3",
        "outputId": "7a7e5db7-7839-4e09-c2de-e775a1db2a0e"
      },
      "source": [
        "# 조건에 논리연산자 사용\n",
        "N1 = 10\n",
        "N2 = 20\n",
        "N3 = 30\n",
        "if N2<N1 or N3>N2:\n",
        "    print('N2<N1 or N3>N2')"
      ],
      "execution_count": null,
      "outputs": [
        {
          "output_type": "stream",
          "text": [
            "N2<N1 or N3>N2\n"
          ],
          "name": "stdout"
        }
      ]
    },
    {
      "cell_type": "code",
      "metadata": {
        "id": "39WnoP-vX2g3"
      },
      "source": [
        "# 중첩된 if문\n",
        "if N2>N1:\n",
        "    if N2>N3:\n",
        "        print('N2>N1 and N3>N2')"
      ],
      "execution_count": null,
      "outputs": []
    },
    {
      "cell_type": "code",
      "metadata": {
        "id": "C0f21FfSX2g3",
        "outputId": "3716df45-8716-468e-88a2-679695b944cb"
      },
      "source": [
        "# if/else\n",
        "if N1>N2:\n",
        "    print('N1>N2')\n",
        "else:\n",
        "    print('N2>N1')"
      ],
      "execution_count": null,
      "outputs": [
        {
          "output_type": "stream",
          "text": [
            "N2>N1\n"
          ],
          "name": "stdout"
        }
      ]
    },
    {
      "cell_type": "code",
      "metadata": {
        "id": "NoO3hmGcX2g3",
        "outputId": "f9f4c80c-6204-475a-d0f9-1e5a1c50499b"
      },
      "source": [
        "# if/elif/else\n",
        "N1 = 10\n",
        "N2 = 20\n",
        "N3 = 30\n",
        "\n",
        "if N1>N2:\n",
        "    print('N1>N2')\n",
        "elif N2>N3:\n",
        "    print('N2>N3')\n",
        "elif N3>N2:\n",
        "    print('N3>N2')\n",
        "else:\n",
        "    print('None of the conditions are true.')"
      ],
      "execution_count": null,
      "outputs": [
        {
          "output_type": "stream",
          "text": [
            "N3>N2\n"
          ],
          "name": "stdout"
        }
      ]
    },
    {
      "cell_type": "code",
      "metadata": {
        "id": "jIZ995yxX2g4",
        "outputId": "20427394-8ad9-49b1-da9d-b1da34637fff"
      },
      "source": [
        "## 반복문 ##\n",
        "# for 문: 자료의 모임(list, tuple, dictionary)에 대해 반복 실행\n",
        "cars = ['AB', 'CD', 'EF', 'GH']\n",
        "for car in cars:\n",
        "    print(car)"
      ],
      "execution_count": null,
      "outputs": [
        {
          "output_type": "stream",
          "text": [
            "AB\n",
            "CD\n",
            "EF\n",
            "GH\n"
          ],
          "name": "stdout"
        }
      ]
    },
    {
      "cell_type": "code",
      "metadata": {
        "id": "gFvJKjZmX2g4",
        "outputId": "50c47ed8-9f61-47bb-81a7-7f0eac3a0dd9"
      },
      "source": [
        "for i in range(10):\n",
        "    print(i)"
      ],
      "execution_count": null,
      "outputs": [
        {
          "output_type": "stream",
          "text": [
            "0\n",
            "1\n",
            "2\n",
            "3\n",
            "4\n",
            "5\n",
            "6\n",
            "7\n",
            "8\n",
            "9\n"
          ],
          "name": "stdout"
        }
      ]
    },
    {
      "cell_type": "code",
      "metadata": {
        "id": "ToM6arVRX2g5"
      },
      "source": [
        "for i in range(50, 55):\n",
        "    print(i)"
      ],
      "execution_count": null,
      "outputs": []
    },
    {
      "cell_type": "code",
      "metadata": {
        "id": "nxejoPmRX2g5",
        "outputId": "3e63e69b-21bf-4e66-bfe5-1fe8ec7b17e4"
      },
      "source": [
        "for c in 'Hello world':\n",
        "    print(c)"
      ],
      "execution_count": null,
      "outputs": [
        {
          "output_type": "stream",
          "text": [
            "H\n",
            "e\n",
            "l\n",
            "l\n",
            "o\n",
            " \n",
            "w\n",
            "o\n",
            "r\n",
            "l\n",
            "d\n"
          ],
          "name": "stdout"
        }
      ]
    },
    {
      "cell_type": "code",
      "metadata": {
        "id": "092lYtR5X2g5",
        "outputId": "3cf85e92-248e-4057-b954-60901a4bafed"
      },
      "source": [
        "# while 문: 조건을 만족하는 동안 반복 실행\n",
        "i = 1\n",
        "while i<5:\n",
        "    print(i)\n",
        "    i += 1"
      ],
      "execution_count": null,
      "outputs": [
        {
          "output_type": "stream",
          "text": [
            "1\n",
            "2\n",
            "3\n",
            "4\n"
          ],
          "name": "stdout"
        }
      ]
    },
    {
      "cell_type": "code",
      "metadata": {
        "id": "fFAMzDu_X2g6",
        "outputId": "2290416f-c800-4906-94ec-b966b37690f2"
      },
      "source": [
        "i = 1\n",
        "while i<10:\n",
        "    print('9x'+str(i)+'='+str(i*9))\n",
        "    i = i+1"
      ],
      "execution_count": null,
      "outputs": [
        {
          "output_type": "stream",
          "text": [
            "9x1=9\n",
            "9x2=18\n",
            "9x3=27\n",
            "9x4=36\n",
            "9x5=45\n",
            "9x6=54\n",
            "9x7=63\n",
            "9x8=72\n",
            "9x9=81\n"
          ],
          "name": "stdout"
        }
      ]
    },
    {
      "cell_type": "code",
      "metadata": {
        "id": "d7lH4mGEX2g6",
        "outputId": "18a05d2f-aaca-4b80-ca6c-1af0396c2ec5"
      },
      "source": [
        "stop=0\n",
        "while 1: #while True:\n",
        "    print('infinite loop')\n",
        "    stop+=1\n",
        "    if stop>3:\n",
        "        break"
      ],
      "execution_count": null,
      "outputs": [
        {
          "output_type": "stream",
          "text": [
            "infinite loop\n",
            "infinite loop\n",
            "infinite loop\n",
            "infinite loop\n"
          ],
          "name": "stdout"
        }
      ]
    },
    {
      "cell_type": "code",
      "metadata": {
        "id": "n3yTX95DX2g6",
        "outputId": "16aa148d-f4d3-4336-a0bc-7338a1a4d7c1"
      },
      "source": [
        "# break: 반복을 벗어날 떄\n",
        "for i in range(1,11):\n",
        "    if i>5:\n",
        "        break\n",
        "    print(i)"
      ],
      "execution_count": null,
      "outputs": [
        {
          "output_type": "stream",
          "text": [
            "1\n",
            "2\n",
            "3\n",
            "4\n",
            "5\n"
          ],
          "name": "stdout"
        }
      ]
    },
    {
      "cell_type": "code",
      "metadata": {
        "id": "M3FZF6ZFX2g6",
        "outputId": "51dc4ee4-15d9-4c47-d5a4-a98c4a598687"
      },
      "source": [
        "# continue: 반복문 내에서 다음 iteration으로 바로 건너 뛸 때\n",
        "for i in range(1,11):\n",
        "    if(i%2 != 0):\n",
        "       continue\n",
        "    print(i)"
      ],
      "execution_count": null,
      "outputs": [
        {
          "output_type": "stream",
          "text": [
            "2\n",
            "4\n",
            "6\n",
            "8\n",
            "10\n"
          ],
          "name": "stdout"
        }
      ]
    },
    {
      "cell_type": "code",
      "metadata": {
        "id": "SAwQuJ8QX2g6",
        "outputId": "cd4c10df-48ce-43f6-8942-6427679a36db"
      },
      "source": [
        "# enumerate: list 내 자료값의 순서값이 필요할 때\n",
        "player = ['John', 'Taylor', 'Ronado', 'Messi']\n",
        "player_1 = list(enumerate(player,1))  # 순서값은 1부터 시작\n",
        "print(player_1)  # tuple 형태로 리턴"
      ],
      "execution_count": null,
      "outputs": [
        {
          "output_type": "stream",
          "text": [
            "[(1, 'John'), (2, 'Taylor'), (3, 'Ronado'), (4, 'Messi')]\n"
          ],
          "name": "stdout"
        }
      ]
    },
    {
      "cell_type": "code",
      "metadata": {
        "id": "KOIn8QZWX2g7",
        "outputId": "bcbc2b87-28da-4ef0-f476-cee04a8c48af"
      },
      "source": [
        "for num, p in enumerate(player,1):\n",
        "    print('Player number '+str(num)+ ' name:', p)"
      ],
      "execution_count": null,
      "outputs": [
        {
          "output_type": "stream",
          "text": [
            "Player number 1 name: John\n",
            "Player number 2 name: Taylor\n",
            "Player number 3 name: Ronado\n",
            "Player number 4 name: Messi\n"
          ],
          "name": "stdout"
        }
      ]
    },
    {
      "cell_type": "code",
      "metadata": {
        "id": "lpmlSXydX2g7",
        "outputId": "f8bb86da-1a53-447d-aef4-83ce29c52ffe"
      },
      "source": [
        "# zip: list, tuple, dictionary 간 짝짓기\n",
        "cars = ['Sonata', 'Toyota', 'Ford', 'Benz', 'Kia']\n",
        "nations = ['Korea', 'Japan', 'America', 'Germany']\n",
        "for c, n in zip(cars, nations):\n",
        "    print('%s is made in %s' %(c,n))"
      ],
      "execution_count": null,
      "outputs": [
        {
          "output_type": "stream",
          "text": [
            "Sonata is made in Korea\n",
            "Toyota is made in Japan\n",
            "Ford is made in America\n",
            "Benz is made in Germany\n"
          ],
          "name": "stdout"
        }
      ]
    },
    {
      "cell_type": "code",
      "metadata": {
        "id": "KvfxTEN_X2g7",
        "outputId": "d5a3831e-c0b7-41da-aa4a-194bf61dd8ce"
      },
      "source": [
        "# 참고: print\n",
        "N = 10\n",
        "a = 2.543\n",
        "b = 'car'\n",
        "print('A typical example of data types is %d, %.2f, and %s.' %(N, a, b))"
      ],
      "execution_count": null,
      "outputs": [
        {
          "output_type": "stream",
          "text": [
            "A typical example of data types is 10, 2.54, and car.\n"
          ],
          "name": "stdout"
        }
      ]
    },
    {
      "cell_type": "code",
      "metadata": {
        "id": "ps9FGKUyX2g7"
      },
      "source": [
        "# =============================================================================\n",
        "# =========================== 5. 객체지향성 프로그램 ===========================\n",
        "# ============================================================================="
      ],
      "execution_count": null,
      "outputs": []
    },
    {
      "cell_type": "code",
      "metadata": {
        "id": "UZ6LZkUiX2g7",
        "outputId": "d33dfcf9-14d2-424a-bdcd-fc15e9dcd339"
      },
      "source": [
        "### 5.1 함수 ###\n",
        "# 가장 간단한 함수\n",
        "def welcome():\n",
        "    print('Welcome to Python')\n",
        "welcome()"
      ],
      "execution_count": null,
      "outputs": [
        {
          "output_type": "stream",
          "text": [
            "Welcome to Python\n"
          ],
          "name": "stdout"
        }
      ]
    },
    {
      "cell_type": "code",
      "metadata": {
        "id": "cLXyrtiBX2g8",
        "outputId": "fa0db3cd-f0a7-44f1-f999-4402eba8454d"
      },
      "source": [
        "# 좀 더 복잡한 경우\n",
        "def p_inf(name, age, gender):\n",
        "    print ('Person name: '+name)\n",
        "    print('Person name:',name)\n",
        "    print ('Person age: ', age)\n",
        "    print ('Person gender: '+gender)\n",
        "    print ('----------------------')\n",
        "    \n",
        "p_inf('James', 20, 'Male')\n",
        "p_inf('Suzan', 19, 'Female')"
      ],
      "execution_count": null,
      "outputs": [
        {
          "output_type": "stream",
          "text": [
            "Person name: James\n",
            "Person name: James\n",
            "Person age:  20\n",
            "Person gender: Male\n",
            "----------------------\n",
            "Person name: Suzan\n",
            "Person name: Suzan\n",
            "Person age:  19\n",
            "Person gender: Female\n",
            "----------------------\n"
          ],
          "name": "stdout"
        }
      ]
    },
    {
      "cell_type": "code",
      "metadata": {
        "id": "C-YttEIxX2g8",
        "outputId": "aeaf74ab-b02f-4a3a-b9ae-a19b91f1720f"
      },
      "source": [
        "# 모수를 받아 새로운 값을 계산하여 반환하는 함수\n",
        "def summ(num1, num2):\n",
        "    result = num1 + num2\n",
        "    return result\n",
        "\n",
        "test = summ(20, 30)\n",
        "print(test)"
      ],
      "execution_count": null,
      "outputs": [
        {
          "output_type": "stream",
          "text": [
            "50\n"
          ],
          "name": "stdout"
        }
      ]
    },
    {
      "cell_type": "code",
      "metadata": {
        "id": "CBUSLxVPX2g8",
        "outputId": "4f11d306-d687-474b-de55-d97c134a19a0"
      },
      "source": [
        "def update_1(newlist):\n",
        "    newlist.append([20, 25, 30])\n",
        "    return\n",
        "\n",
        "uplist = [5, 10, 15]\n",
        "update_1(uplist)\n",
        "print(uplist)"
      ],
      "execution_count": null,
      "outputs": [
        {
          "output_type": "stream",
          "text": [
            "[5, 10, 15, [20, 25, 30]]\n"
          ],
          "name": "stdout"
        }
      ]
    },
    {
      "cell_type": "code",
      "metadata": {
        "id": "2E2qsyQwX2g8",
        "outputId": "58e14c86-2283-4f8d-ff7a-7bea65053af4"
      },
      "source": [
        "x=[]\n",
        "for i in range(1,10):\n",
        "    x.append(i)\n",
        "print(x)"
      ],
      "execution_count": null,
      "outputs": [
        {
          "output_type": "stream",
          "text": [
            "[1, 2, 3, 4, 5, 6, 7, 8, 9]\n"
          ],
          "name": "stdout"
        }
      ]
    },
    {
      "cell_type": "code",
      "metadata": {
        "id": "K-BdyLSnX2g8",
        "outputId": "92cd6c6a-887b-4c2f-890f-0e08e53e47d6"
      },
      "source": [
        "samples=['The cat sat on the mat.', 'The dog sat on the desk']\n",
        "token={}\n",
        "for sample in samples:\n",
        "    for word in sample.split():\n",
        "        if word not in token:\n",
        "            token[word]=len(token)+1\n",
        "print(token)"
      ],
      "execution_count": null,
      "outputs": [
        {
          "output_type": "stream",
          "text": [
            "{'The': 1, 'cat': 2, 'sat': 3, 'on': 4, 'the': 5, 'mat.': 6, 'dog': 7, 'desk': 8}\n"
          ],
          "name": "stdout"
        }
      ]
    },
    {
      "cell_type": "code",
      "metadata": {
        "id": "9v2TaLbnX2g9",
        "outputId": "48e4f4fc-800d-4f6d-cee5-54ebca73364a"
      },
      "source": [
        "# lambda\n",
        "result = lambda n1, n2, n3: n1+n2+n3\n",
        "result(1, 2, 3)"
      ],
      "execution_count": null,
      "outputs": [
        {
          "output_type": "execute_result",
          "data": {
            "text/plain": [
              "6"
            ]
          },
          "metadata": {
            "tags": []
          },
          "execution_count": 31
        }
      ]
    },
    {
      "cell_type": "code",
      "metadata": {
        "id": "h-X-F_oAX2g9",
        "outputId": "6b063d82-2c59-402f-dd27-9c1f7246516d"
      },
      "source": [
        "### 5.2 클래스(class) ###\n",
        "class Player:\n",
        "    name = 'John'\n",
        "    age = 22\n",
        "    gender = 'male'\n",
        "    \n",
        "    def stand(self):\n",
        "        print(\"he stands\")\n",
        "        \n",
        "    def run(self):\n",
        "        print(\"he runs\")\n",
        "    \n",
        "male_1 = Player()\n",
        "player_name = male_1.name\n",
        "print(player_name)\n",
        "male_1.run()"
      ],
      "execution_count": null,
      "outputs": [
        {
          "output_type": "stream",
          "text": [
            "John\n",
            "he runs\n"
          ],
          "name": "stdout"
        }
      ]
    },
    {
      "cell_type": "code",
      "metadata": {
        "id": "X9tj3IUhX2g9",
        "outputId": "1279f4b5-0385-4c09-9cb9-eb175b7d4530"
      },
      "source": [
        "# 클래스 속성(attribute)과 사례(instance) 속성\n",
        "class Player:\n",
        "    person_count = 0  # 클래스 속성\n",
        "    \n",
        "    def infor(self, name, age, gender):\n",
        "        self.name = name  # 사례 속성\n",
        "        self.age = age\n",
        "        self.gender = gender\n",
        "        \n",
        "        Player.person_count +=1\n",
        "        \n",
        "        print('Infor for player ' + self.name + ' hasbeen stored.')\n",
        "        \n",
        "player1 = Player()  # 아직 속성에 값을 할당하지 않음.\n",
        "player1.infor('John', 22, 'male')\n",
        "print('Player count: ' + str(player1.person_count))"
      ],
      "execution_count": null,
      "outputs": [
        {
          "output_type": "stream",
          "text": [
            "Infor for player John hasbeen stored.\n",
            "Player count: 1\n"
          ],
          "name": "stdout"
        }
      ]
    },
    {
      "cell_type": "code",
      "metadata": {
        "id": "260JTS7JX2g-",
        "outputId": "5a5f21d0-8d7f-46cc-8e1c-3adffe0cc5eb"
      },
      "source": [
        "player2 = Player()\n",
        "player2.infor('Messi', 30, 'Messi')\n",
        "print('Player count: ' + str(player2.person_count))\n",
        "print('Player count: ', player2.person_count) # player1, player2 둘 다 count에 영향 "
      ],
      "execution_count": null,
      "outputs": [
        {
          "output_type": "stream",
          "text": [
            "Infor for player Messi hasbeen stored.\n",
            "Player count: 2\n",
            "Player count:  2\n"
          ],
          "name": "stdout"
        }
      ]
    },
    {
      "cell_type": "code",
      "metadata": {
        "id": "R54la9ppX2g-",
        "outputId": "3ff917a5-3bf7-434d-d098-e8b75f10aaba"
      },
      "source": [
        "# 클래스를 호출하면 자동으로 사례속성을 만들어내는 방법\n",
        "class Food:\n",
        "    def __init__(self, name, expiry_year, expiry_month):  # 생성자\n",
        "        self.name = name\n",
        "        self.expiry_year = expiry_year\n",
        "        self.expiry_month = expiry_month\n",
        "        \n",
        "        print(\"initialized instance varibles.\")\n",
        "        \n",
        "    def expiry_date(self):\n",
        "        print('The expiration data is ' + str(self.expiry_month) + \\\n",
        "              '/' + str(self.expiry_year))\n",
        "\n",
        "food_1 = Food('Pizza', 2018, 12)  # 클래스를 호출하는 동시에 속성에 값이 할당됨\n",
        "food_1.expiry_date()"
      ],
      "execution_count": null,
      "outputs": [
        {
          "output_type": "stream",
          "text": [
            "initialized instance varibles.\n",
            "The expiration data is 12/2018\n"
          ],
          "name": "stdout"
        }
      ]
    },
    {
      "cell_type": "code",
      "metadata": {
        "id": "C3aRrxQXX2g-",
        "outputId": "646e9dc0-bbdb-4435-c1d7-a8bab7a14fc5"
      },
      "source": [
        "food_2 = Food('Bread', 2019, 20)\n",
        "food_2.expiry_date()  "
      ],
      "execution_count": null,
      "outputs": [
        {
          "output_type": "stream",
          "text": [
            "initialized instance varibles.\n",
            "The expiration data is 20/2019\n"
          ],
          "name": "stdout"
        }
      ]
    },
    {
      "cell_type": "code",
      "metadata": {
        "id": "UheIal7DX2g-",
        "outputId": "0575b82d-3d51-48a3-fcfc-0be52c320b81"
      },
      "source": [
        "# 클래스 내에서 속성 제어 (property, setter)\n",
        "class Food:\n",
        "    def __init__(self, name, expiry_year, expiry_month):\n",
        "        self.name = name\n",
        "        self.expiry_year = expiry_year\n",
        "        self.expiry_month = expiry_month  #  self.__expiry_month = expiry_month로 하면 20이 출력되는 이유는?\n",
        "\n",
        "        print(\"initialized instance varibles.\")\n",
        "\n",
        "    @property\n",
        "    def expiry_month(self):\n",
        "        return self.__expiry_month\n",
        "\n",
        "    @expiry_month.setter\n",
        "    def expiry_month(self, expiry_month):\n",
        "        if expiry_month<1:\n",
        "            self.__expiry_month = 1\n",
        "        elif expiry_month>12:\n",
        "            self.__expiry_month = 12\n",
        "        else:\n",
        "            self.__expiry_month = expiry_month\n",
        "\n",
        "    def expiry_date(self):\n",
        "        print('The expiration data is ' + str(self.expiry_month) + \\\n",
        "              '/' + str(self.expiry_year))\n",
        "        \n",
        "food_2 = Food('Bread', 2019, 20)\n",
        "food_2.expiry_date()"
      ],
      "execution_count": null,
      "outputs": [
        {
          "output_type": "stream",
          "text": [
            "initialized instance varibles.\n",
            "The expiration data is 12/2019\n"
          ],
          "name": "stdout"
        }
      ]
    },
    {
      "cell_type": "code",
      "metadata": {
        "id": "b_Dahj6wX2g_",
        "outputId": "81769a6a-ab2d-4d32-9e7d-68a3dfa38579"
      },
      "source": [
        "print(food_2.name)\n",
        "print(food_2.expiry_month)"
      ],
      "execution_count": null,
      "outputs": [
        {
          "output_type": "error",
          "ename": "NameError",
          "evalue": "name 'food_2' is not defined",
          "traceback": [
            "\u001b[1;31m---------------------------------------------------------------------------\u001b[0m",
            "\u001b[1;31mNameError\u001b[0m                                 Traceback (most recent call last)",
            "\u001b[1;32m<ipython-input-1-7a1ba00cdcf6>\u001b[0m in \u001b[0;36m<module>\u001b[1;34m()\u001b[0m\n\u001b[1;32m----> 1\u001b[1;33m \u001b[0mprint\u001b[0m\u001b[1;33m(\u001b[0m\u001b[0mfood_2\u001b[0m\u001b[1;33m.\u001b[0m\u001b[0mname\u001b[0m\u001b[1;33m)\u001b[0m\u001b[1;33m\u001b[0m\u001b[0m\n\u001b[0m\u001b[0;32m      2\u001b[0m \u001b[0mprint\u001b[0m\u001b[1;33m(\u001b[0m\u001b[0mfood_2\u001b[0m\u001b[1;33m.\u001b[0m\u001b[0mexpiry_month\u001b[0m\u001b[1;33m)\u001b[0m\u001b[1;33m\u001b[0m\u001b[0m\n",
            "\u001b[1;31mNameError\u001b[0m: name 'food_2' is not defined"
          ]
        }
      ]
    },
    {
      "cell_type": "code",
      "metadata": {
        "id": "jvS1JmUiX2g_",
        "outputId": "14dd0cd9-741e-4d75-b4eb-5b090f09bd70"
      },
      "source": [
        "def summ(start,last,step=1):\n",
        "    sum=0\n",
        "    for i in range(start,last,step):\n",
        "        sum+=i\n",
        "    return sum\n",
        "print(summ(1,11,2))\n",
        "print(summ(1,101))"
      ],
      "execution_count": null,
      "outputs": [
        {
          "output_type": "stream",
          "text": [
            "25\n",
            "5050\n"
          ],
          "name": "stdout"
        }
      ]
    },
    {
      "cell_type": "code",
      "metadata": {
        "id": "h92uvmfgX2g_"
      },
      "source": [
        "# ★★★★★★★★★★★★★★★★★★★★★★★★★★★★★★★★★★★★★★★★★★★★★★★★★★"
      ],
      "execution_count": null,
      "outputs": []
    }
  ]
}